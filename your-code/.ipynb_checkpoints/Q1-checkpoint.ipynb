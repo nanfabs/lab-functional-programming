{
 "cells": [
  {
   "cell_type": "markdown",
   "metadata": {},
   "source": [
    "In the cell below, create a Python function that wraps your previous solution for the Bag of Words lab.\n",
    "\n",
    "Requirements:\n",
    "\n",
    "1. Your function should accept the following parameters:\n",
    "    * `docs` [REQUIRED] - array of document paths.\n",
    "    * `stop_words` [OPTIONAL] - array of stop words. The default value is an empty array.\n",
    "\n",
    "1. Your function should return a Python object that contains the following:\n",
    "    * `bag_of_words` - array of strings of normalized unique words in the corpus.\n",
    "    * `term_freq` - array of the term-frequency vectors."
   ]
  },
  {
   "cell_type": "code",
   "execution_count": 1,
   "metadata": {},
   "outputs": [],
   "source": [
    "# Import required libraries\n",
    "import os\n",
    "import pandas as pd\n",
    "\n",
    "# Define function\n",
    "def get_bow_from_docs(docs, stop_words=[]):\n",
    "    \n",
    "    # In the function, first define the variables you will use such as `corpus`, `bag_of_words`, and `term_freq`.\n",
    "    corpus1 = []\n",
    "    bag_of_words = []\n",
    "    term_freq = []\n",
    "    \n",
    "    \n",
    "    \"\"\"\n",
    "    Loop `docs` and read the content of each doc into a string in `corpus`.\n",
    "    Remember to convert the doc content to lowercases and remove punctuation.\n",
    "    \"\"\"\n",
    "    for doc in docs:\n",
    "        corpus1.append(open(doc,'r').read())\n",
    "        corpus = []\n",
    "    for i in corpus1:\n",
    "        corpus.append(i.lower().replace(\".\",\"\"))\n",
    "    \n",
    "    \"\"\"\n",
    "    Loop `corpus`. Append the terms in each doc into the `bag_of_words` array. The terms in `bag_of_words` \n",
    "    should be unique which means before adding each term you need to check if it's already added to the array.\n",
    "    In addition, check if each term is in the `stop_words` array. Only append the term to `bag_of_words`\n",
    "    if it is not a stop word.\n",
    "    \"\"\"\n",
    "    for i in corpus:\n",
    "        words = i.split()\n",
    "        for w in words:\n",
    "            if w not in bag_of_words and w not in stop_words:\n",
    "                bag_of_words.append(w)\n",
    "  \n",
    "    \n",
    "    \n",
    "    \"\"\"\n",
    "    Loop `corpus` again. For each doc string, count the number of occurrences of each term in `bag_of_words`. \n",
    "    Create an array for each doc's term frequency and append it to `term_freq`.\n",
    "    \"\"\"\n",
    "    pieces = []\n",
    "    for i in corpus:\n",
    "        pieces.append(i.split())\n",
    "\n",
    "    for i in range(len(pieces)):\n",
    "        temp = []\n",
    "        for y in bag_of_words:\n",
    "                temp.append(pieces[i].count(y))\n",
    "        term_freq.append(temp)\n",
    "\n",
    "    \n",
    "    # Now return your output as an object\n",
    "    return {\n",
    "        \"bag_of_words\": bag_of_words,\n",
    "        \"term_freq\": term_freq\n",
    "    }\n",
    "    "
   ]
  },
  {
   "cell_type": "markdown",
   "metadata": {},
   "source": [
    "Test your function without stop words. You should see the output like below:\n",
    "\n",
    "```{'bag_of_words': ['ironhack', 'is', 'cool', 'i', 'love', 'am', 'a', 'student', 'at'], 'term_freq': [[1, 1, 1, 0, 0, 0, 0, 0, 0], [1, 0, 0, 1, 1, 0, 0, 0, 0], [1, 0, 0, 1, 0, 1, 1, 1, 1]]}```"
   ]
  },
  {
   "cell_type": "code",
   "execution_count": 2,
   "metadata": {},
   "outputs": [
    {
     "name": "stdout",
     "output_type": "stream",
     "text": [
      "{'bag_of_words': ['ironhack', 'is', 'cool', 'i', 'love', 'am', 'a', 'student', 'at'], 'term_freq': [[1, 1, 1, 0, 0, 0, 0, 0, 0], [1, 0, 0, 1, 1, 0, 0, 0, 0], [1, 0, 0, 1, 0, 1, 1, 1, 1]]}\n"
     ]
    }
   ],
   "source": [
    "# Define doc paths array\n",
    "docs = ['doc1.txt', 'doc2.txt', 'doc3.txt']\n",
    "\n",
    "# Obtain BoW from your function\n",
    "bow = get_bow_from_docs(docs)\n",
    "\n",
    "# Print BoW\n",
    "print(bow)"
   ]
  },
  {
   "cell_type": "markdown",
   "metadata": {},
   "source": [
    "If your attempt above is successful, nice work done!\n",
    "\n",
    "Now test your function again with the stop words. In the previous lab we defined the stop words in a large array. In this lab, we'll import the stop words from Scikit-Learn."
   ]
  },
  {
   "cell_type": "code",
   "execution_count": 3,
   "metadata": {},
   "outputs": [
    {
     "name": "stdout",
     "output_type": "stream",
     "text": [
      "frozenset({'together', 'via', 'two', 'inc', 'part', 'with', 'how', 'cannot', 'sincere', 'any', 'although', 'amoungst', 'more', 'fill', 'bill', 'thence', 'whence', 'last', 'full', 'across', 'none', 'afterwards', 'can', 'already', 'six', 'seeming', 'whole', 'elsewhere', 'even', 'becoming', 'about', 'thin', 'a', 'between', 'mine', 'yourselves', 'someone', 'neither', 'hundred', 'own', 'as', 'too', 'above', 'somehow', 'up', 'them', 'ever', 'hence', 'everything', 'give', 'sometime', 'eight', 'themselves', 'hereafter', 'off', 'eg', 'yourself', 'ltd', 'move', 'anyway', 'latter', 'many', 'very', 'whose', 'wherever', 'among', 'upon', 'whether', 'meanwhile', 'by', 'others', 'otherwise', 'nevertheless', 'however', 'thereby', 'on', 'since', 'both', 'who', 'whom', 're', 'noone', 'fire', 'hers', 'within', 'these', 'down', 'ourselves', 'the', 'nothing', 'must', 'namely', 'us', 'our', 'without', 'whereafter', 'several', 'mill', 'same', 'everyone', 'become', 'nobody', 'toward', 'around', 'may', 'beforehand', 'has', 'under', 'this', 'nine', 'every', 'being', 'only', 'sixty', 'into', 'at', 'becomes', 'here', 'keep', 'mostly', 'anywhere', 'over', 'get', 'of', 'somewhere', 'they', 'besides', 'de', 'where', 'sometimes', 'per', 'call', 'during', 'twelve', 'myself', 'empty', 'after', 'such', 'thus', 'had', 'serious', 'because', 'un', 'due', 'each', 'his', 'always', 'seemed', 'i', 'so', 'along', 'never', 'whereupon', 'than', 'third', 'interest', 'against', 'amount', 'one', 'rather', 'while', 'all', 'ours', 'yours', 'bottom', 'hereupon', 'least', 'three', 'other', 'for', 'in', 'perhaps', 'its', 'see', 'before', 'anyone', 'front', 'onto', 'thereupon', 'detail', 'whoever', 'herein', 'you', 'why', 'we', 'please', 'be', 'wherein', 'no', 'me', 'often', 'almost', 'describe', 'name', 'alone', 'thick', 'first', 'amongst', 'that', 'again', 'behind', 'itself', 'found', 'to', 'ie', 'anyhow', 'became', 'am', 'it', 'thru', 'her', 'fifteen', 'four', 'top', 'from', 'another', 'eleven', 'seems', 'were', 'not', 'below', 'she', 'an', 'what', 'when', 'except', 'now', 'co', 'fifty', 'whereas', 'indeed', 'towards', 'cant', 'do', 'enough', 'herself', 'might', 'few', 'still', 'would', 'nor', 'and', 'five', 'whenever', 'most', 'hasnt', 'once', 'could', 'well', 'beyond', 'should', 'ten', 'made', 'much', 'done', 'but', 'my', 'else', 'forty', 'if', 'therefore', 'further', 'go', 'show', 'though', 'less', 'have', 'moreover', 'next', 'beside', 'was', 'then', 'whither', 'until', 'hereby', 'him', 'himself', 'are', 'been', 'throughout', 'formerly', 'out', 'also', 'anything', 'former', 'therein', 'some', 'con', 'couldnt', 'their', 'etc', 'will', 'is', 'something', 'back', 'or', 'side', 'whatever', 'latterly', 'either', 'your', 'put', 'cry', 'he', 'everywhere', 'yet', 'there', 'system', 'whereby', 'which', 'through', 'thereafter', 'those', 'find', 'twenty', 'seem', 'nowhere', 'take'})\n"
     ]
    }
   ],
   "source": [
    "from sklearn.feature_extraction import stop_words\n",
    "print(stop_words.ENGLISH_STOP_WORDS)"
   ]
  },
  {
   "cell_type": "markdown",
   "metadata": {},
   "source": [
    "You should have seen a large list of words that looks like:\n",
    "\n",
    "```frozenset({'across', 'mine', 'cannot', ...})```\n",
    "\n",
    "`frozenset` is a type of Python object that is immutable. In this lab you can use it just like an array without conversion."
   ]
  },
  {
   "cell_type": "markdown",
   "metadata": {},
   "source": [
    "Next, test your function with supplying `stop_words.ENGLISH_STOP_WORDS` as the second parameter."
   ]
  },
  {
   "cell_type": "code",
   "execution_count": 10,
   "metadata": {},
   "outputs": [
    {
     "name": "stdout",
     "output_type": "stream",
     "text": [
      "{'bag_of_words': ['ironhack', 'cool', 'love', 'student'], 'term_freq': [[1, 1, 0, 0], [1, 0, 1, 0], [1, 0, 0, 1]]}\n"
     ]
    }
   ],
   "source": [
    "bow = get_bow_from_docs(docs, stop_words.ENGLISH_STOP_WORDS)\n",
    "\n",
    "print(bow)"
   ]
  },
  {
   "cell_type": "markdown",
   "metadata": {},
   "source": [
    "You should have seen:\n",
    "\n",
    "```{'bag_of_words': ['ironhack', 'cool', 'love', 'student'], 'term_freq': [[1, 1, 0, 0], [1, 0, 1, 0], [1, 0, 0, 1]]}```"
   ]
  },
  {
   "cell_type": "code",
   "execution_count": null,
   "metadata": {},
   "outputs": [],
   "source": []
  }
 ],
 "metadata": {
  "kernelspec": {
   "display_name": "Python 3",
   "language": "python",
   "name": "python3"
  },
  "language_info": {
   "codemirror_mode": {
    "name": "ipython",
    "version": 3
   },
   "file_extension": ".py",
   "mimetype": "text/x-python",
   "name": "python",
   "nbconvert_exporter": "python",
   "pygments_lexer": "ipython3",
   "version": "3.7.4"
  }
 },
 "nbformat": 4,
 "nbformat_minor": 2
}
