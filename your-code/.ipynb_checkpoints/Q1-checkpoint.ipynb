{
 "cells": [
  {
   "cell_type": "markdown",
   "metadata": {},
   "source": [
    "In the cell below, create a Python function that wraps your previous solution for the Bag of Words lab.\n",
    "\n",
    "Requirements:\n",
    "\n",
    "1. Your function should accept the following parameters:\n",
    "    * `docs` [REQUIRED] - array of document paths.\n",
    "    * `stop_words` [OPTIONAL] - array of stop words. The default value is an empty array.\n",
    "\n",
    "1. Your function should return a Python object that contains the following:\n",
    "    * `bag_of_words` - array of strings of normalized unique words in the corpus.\n",
    "    * `term_freq` - array of the term-frequency vectors."
   ]
  },
  {
   "cell_type": "code",
   "execution_count": 5,
   "metadata": {},
   "outputs": [],
   "source": [
    "# Import required libraries\n",
    "import os\n",
    "import pandas as pd\n",
    "\n",
    "# Define function\n",
    "def get_bow_from_docs(docs, stop_words=[]):\n",
    "    \n",
    "    # In the function, first define the variables you will use such as `corpus`, `bag_of_words`, and `term_freq`.\n",
    "    corpus1 = []\n",
    "    bag_of_words = []\n",
    "    term_freq = []\n",
    "    \n",
    "    \n",
    "    \"\"\"\n",
    "    Loop `docs` and read the content of each doc into a string in `corpus`.\n",
    "    Remember to convert the doc content to lowercases and remove punctuation.\n",
    "    \"\"\"\n",
    "    for doc in docs:\n",
    "        corpus1.append(open(doc,'r').read())\n",
    "        corpus = []\n",
    "    for i in corpus1:\n",
    "        corpus.append(i.lower().replace(\".\",\"\"))\n",
    "    \n",
    "    \"\"\"\n",
    "    Loop `corpus`. Append the terms in each doc into the `bag_of_words` array. The terms in `bag_of_words` \n",
    "    should be unique which means before adding each term you need to check if it's already added to the array.\n",
    "    In addition, check if each term is in the `stop_words` array. Only append the term to `bag_of_words`\n",
    "    if it is not a stop word.\n",
    "    \"\"\"\n",
    "    for i in corpus:\n",
    "        words = i.split()\n",
    "        for w in words:\n",
    "            if w not in bag_of_words and w not in stop_words:\n",
    "                bag_of_words.append(w)\n",
    "  \n",
    "    \n",
    "    \n",
    "    \"\"\"\n",
    "    Loop `corpus` again. For each doc string, count the number of occurrences of each term in `bag_of_words`. \n",
    "    Create an array for each doc's term frequency and append it to `term_freq`.\n",
    "    \"\"\"\n",
    "    pieces = []\n",
    "    for i in corpus:\n",
    "        pieces.append(i.split())\n",
    "\n",
    "    for i in range(len(pieces)):\n",
    "        temp = []\n",
    "        for y in bag_of_words:\n",
    "                temp.append(pieces[i].count(y))\n",
    "        term_freq.append(temp)\n",
    "\n",
    "    \n",
    "    # Now return your output as an object\n",
    "    return {\n",
    "        \"bag_of_words\": bag_of_words,\n",
    "        \"term_freq\": term_freq\n",
    "    }\n",
    "    "
   ]
  },
  {
   "cell_type": "markdown",
   "metadata": {},
   "source": [
    "Test your function without stop words. You should see the output like below:\n",
    "\n",
    "```{'bag_of_words': ['ironhack', 'is', 'cool', 'i', 'love', 'am', 'a', 'student', 'at'], 'term_freq': [[1, 1, 1, 0, 0, 0, 0, 0, 0], [1, 0, 0, 1, 1, 0, 0, 0, 0], [1, 0, 0, 1, 0, 1, 1, 1, 1]]}```"
   ]
  },
  {
   "cell_type": "code",
   "execution_count": 6,
   "metadata": {},
   "outputs": [
    {
     "name": "stdout",
     "output_type": "stream",
     "text": [
      "{'bag_of_words': ['ironhack', 'is', 'cool', 'i', 'love', 'am', 'a', 'student', 'at'], 'term_freq': [[1, 1, 1, 0, 0, 0, 0, 0, 0], [1, 0, 0, 1, 1, 0, 0, 0, 0], [1, 0, 0, 1, 0, 1, 1, 1, 1]]}\n"
     ]
    }
   ],
   "source": [
    "# Define doc paths array\n",
    "docs = ['doc1.txt', 'doc2.txt', 'doc3.txt']\n",
    "\n",
    "# Obtain BoW from your function\n",
    "bow = get_bow_from_docs(docs)\n",
    "\n",
    "# Print BoW\n",
    "print(bow)"
   ]
  },
  {
   "cell_type": "markdown",
   "metadata": {},
   "source": [
    "If your attempt above is successful, nice work done!\n",
    "\n",
    "Now test your function again with the stop words. In the previous lab we defined the stop words in a large array. In this lab, we'll import the stop words from Scikit-Learn."
   ]
  },
  {
   "cell_type": "code",
   "execution_count": 3,
   "metadata": {},
   "outputs": [
    {
     "name": "stdout",
     "output_type": "stream",
     "text": [
      "frozenset({'except', 'done', 'not', 'thereupon', 'across', 'your', 'ever', 'nothing', 'ie', 'same', 'nowhere', 'part', 'off', 'hundred', 'after', 'top', 'myself', 'been', 'seemed', 'why', 'wherever', 'above', 'any', 'between', 'nor', 'each', 'inc', 'from', 'what', 'indeed', 'mill', 'beside', 'latter', 'at', 'such', 'only', 'their', 'becomes', 'see', 'among', 'un', 'mostly', 'whenever', 'side', 'can', 'her', 'elsewhere', 'sometimes', 'de', 'into', 'without', 'ours', 'please', 'all', 'often', 'something', 'be', 'neither', 'anywhere', 'system', 'up', 'behind', 'moreover', 'therefore', 'another', 'back', 'on', 'fifteen', 'whom', 'eight', 'other', 'someone', 'fifty', 'four', 'for', 'very', 'wherein', 'i', 'everything', 'move', 'hereupon', 'some', 'over', 'together', 'few', 'while', 'am', 'anything', 'ourselves', 'as', 'that', 'should', 'namely', 'one', 'via', 'always', 'in', 'former', 'is', 'beyond', 'due', 'anyone', 'because', 'never', 'nobody', 'somewhere', 'around', 'cant', 'give', 'him', 'hence', 'out', 'whereby', 'amoungst', 'about', 'now', 'hereby', 'here', 'anyhow', 'interest', 'onto', 'ltd', 'mine', 'formerly', 'do', 're', 'bill', 'though', 'which', 'somehow', 'most', 'amount', 'hers', 'has', 'its', 'serious', 'less', 'may', 'during', 'yet', 'none', 'of', 'twenty', 'he', 'became', 'how', 'fill', 'herein', 'get', 'whatever', 'nine', 'along', 'etc', 'them', 'go', 'down', 'alone', 'seeming', 'couldnt', 'eleven', 'find', 'three', 'we', 'although', 'could', 'whither', 'least', 'both', 'thick', 'they', 'per', 'than', 'five', 'might', 'there', 'also', 'with', 'whoever', 'eg', 'enough', 'anyway', 'whether', 'upon', 'you', 'will', 'further', 'itself', 'con', 'toward', 'she', 'throughout', 'however', 'our', 'before', 'several', 'bottom', 'yourself', 'thereby', 'then', 'but', 'so', 'noone', 'an', 'through', 'fire', 'full', 'meanwhile', 'once', 'nevertheless', 'a', 'first', 'everywhere', 'show', 'yours', 'everyone', 'have', 'much', 'take', 'own', 'six', 'these', 'must', 'since', 'to', 'whereas', 'latterly', 'thus', 'still', 'yourselves', 'two', 'was', 'if', 'co', 'call', 'are', 'until', 'himself', 'whole', 'thin', 'amongst', 'well', 'others', 'whereafter', 'forty', 'whose', 'otherwise', 'even', 'below', 'towards', 'no', 'perhaps', 'ten', 'almost', 'keep', 'sincere', 'had', 'last', 'by', 'besides', 'twelve', 'his', 'put', 'therein', 'every', 'seem', 'and', 'hereafter', 'third', 'more', 'name', 'cry', 'where', 'many', 'who', 'detail', 'when', 'would', 'against', 'beforehand', 'themselves', 'seems', 'either', 'else', 'already', 'thence', 'were', 'next', 'become', 'within', 'again', 'made', 'describe', 'it', 'whereupon', 'hasnt', 'us', 'being', 'becoming', 'rather', 'under', 'herself', 'whence', 'my', 'too', 'afterwards', 'those', 'thereafter', 'me', 'the', 'front', 'or', 'empty', 'cannot', 'sometime', 'sixty', 'this', 'found', 'thru'})\n"
     ]
    }
   ],
   "source": [
    "from sklearn.feature_extraction import stop_words\n",
    "print(stop_words.ENGLISH_STOP_WORDS)"
   ]
  },
  {
   "cell_type": "markdown",
   "metadata": {},
   "source": [
    "You should have seen a large list of words that looks like:\n",
    "\n",
    "```frozenset({'across', 'mine', 'cannot', ...})```\n",
    "\n",
    "`frozenset` is a type of Python object that is immutable. In this lab you can use it just like an array without conversion."
   ]
  },
  {
   "cell_type": "markdown",
   "metadata": {},
   "source": [
    "Next, test your function with supplying `stop_words.ENGLISH_STOP_WORDS` as the second parameter."
   ]
  },
  {
   "cell_type": "code",
   "execution_count": 4,
   "metadata": {},
   "outputs": [
    {
     "name": "stdout",
     "output_type": "stream",
     "text": [
      "{'bag_of_words': ['ironhack', 'cool', 'love', 'student'], 'term_freq': [[1, 1, 0, 0], [1, 0, 1, 0], [1, 0, 0, 1]]}\n"
     ]
    }
   ],
   "source": [
    "bow = get_bow_from_docs(docs, stop_words.ENGLISH_STOP_WORDS)\n",
    "\n",
    "print(bow)"
   ]
  },
  {
   "cell_type": "markdown",
   "metadata": {},
   "source": [
    "You should have seen:\n",
    "\n",
    "```{'bag_of_words': ['ironhack', 'cool', 'love', 'student'], 'term_freq': [[1, 1, 0, 0], [1, 0, 1, 0], [1, 0, 0, 1]]}```"
   ]
  },
  {
   "cell_type": "code",
   "execution_count": null,
   "metadata": {},
   "outputs": [],
   "source": []
  }
 ],
 "metadata": {
  "kernelspec": {
   "display_name": "Python 3",
   "language": "python",
   "name": "python3"
  },
  "language_info": {
   "codemirror_mode": {
    "name": "ipython",
    "version": 3
   },
   "file_extension": ".py",
   "mimetype": "text/x-python",
   "name": "python",
   "nbconvert_exporter": "python",
   "pygments_lexer": "ipython3",
   "version": "3.7.4"
  }
 },
 "nbformat": 4,
 "nbformat_minor": 2
}
